{
 "cells": [
  {
   "cell_type": "markdown",
   "metadata": {},
   "source": [
    "# Problema del **flujo máximo a coste mínimo** - Ruymán García Martín"
   ]
  },
  {
   "cell_type": "code",
   "execution_count": 9,
   "metadata": {},
   "outputs": [
    {
     "name": "stderr",
     "output_type": "stream",
     "text": [
      "\u001b[32m\u001b[1m   Resolving\u001b[22m\u001b[39m package versions...\n",
      "\u001b[32m\u001b[1m  No Changes\u001b[22m\u001b[39m to `C:\\Users\\Ruymán\\.julia\\environments\\v1.11\\Project.toml`\n",
      "\u001b[32m\u001b[1m  No Changes\u001b[22m\u001b[39m to `C:\\Users\\Ruymán\\.julia\\environments\\v1.11\\Manifest.toml`\n",
      "\u001b[32m\u001b[1m   Resolving\u001b[22m\u001b[39m package versions...\n",
      "\u001b[32m\u001b[1m  No Changes\u001b[22m\u001b[39m to `C:\\Users\\Ruymán\\.julia\\environments\\v1.11\\Project.toml`\n",
      "\u001b[32m\u001b[1m  No Changes\u001b[22m\u001b[39m to `C:\\Users\\Ruymán\\.julia\\environments\\v1.11\\Manifest.toml`\n"
     ]
    }
   ],
   "source": [
    "import Pkg\n",
    "Pkg.add(\"JuMP\")\n",
    "Pkg.add(\"GLPK\")\n",
    "using JuMP, GLPK, Random, Test"
   ]
  },
  {
   "cell_type": "markdown",
   "metadata": {},
   "source": [
    "# Problema del flujo máximo a coste mínimo\n",
    "\n"
   ]
  },
  {
   "cell_type": "markdown",
   "metadata": {},
   "source": [
    "\n",
    "El problema de flujo máximo a coste mínimo en un grafo dirigido es una variante del problema clásico de flujo máximo en un grafo. En este problema, se busca encontrar la cantidad máxima de flujo que puede enviarse desde un nodo fuente (s) a un nodo sumidero (t) en un grafo ponderado dirigido, minimizando el costo total asociado al envío del flujo a través de las aristas."
   ]
  },
  {
   "cell_type": "markdown",
   "metadata": {},
   "source": [
    "## Modelo Matemático"
   ]
  },
  {
   "cell_type": "markdown",
   "metadata": {},
   "source": [
    "### Variables de decisión\n",
    "* $V \\rightarrow$ Conjunto de nodos.\n",
    "* $E \\rightarrow$ Conjunto de aristas.\n",
    "*   $x_{ij} \\rightarrow$ La cantidad de flujo enviado a lo largo de la arista (i, j).\n",
    "*   $f \\rightarrow$ El valor del flujo total desde el nodo fuente $(s)$ al nodo sumidero $(t)$.\n",
    "\n",
    "### Parámetros\n",
    "* $c_{ij}\\rightarrow$ El costo por unidad de flujo a lo largo de la arista (i, j).\n",
    "* $u_{ij}\\rightarrow$ La capacidad máxima de flujo a lo largo de la arista (i, j).\n",
    "* $s\\rightarrow$ El nodo fuente.\n",
    "* $t\\rightarrow$ El nodo sumidero.\n",
    "\n",
    "### Función Objetivo\n",
    "\n",
    "$$\n",
    "    \\begin{array}{ccc}\n",
    "    minimizar  & \\sum_{i,j} c_{ij} x_{ij}\\\\\n",
    "    \\end{array}\n",
    "$$\n",
    "\n",
    "### Restricciones\n",
    "\n",
    "$$\n",
    "    \\begin{array}{ccc}\n",
    "    & \\sum_{j:(i,j) \\in E} x_{ij} - \\sum_{j:(j,i) \\in E} x_{ji} = 0 & \\forall i \\in V - \\{s,t\\}\\\\\n",
    "    & \\sum_{j:(s,j) \\in E} x_{sj} - \\sum_{j:(j,s) \\in E} x_{js} = f\\\\\n",
    "    & \\sum_{j:(t,j) \\in E} x_{tj} - \\sum_{j:(j,t) \\in E} x_{jt} = -f\\\\\n",
    "    & x_{ij} \\leq u_{ij} & \\forall(i,j) \\in E\\\\\n",
    "    & x_{ij} \\geq 0\\\\\n",
    "    & f \\geq 0\n",
    "    \\end{array}\n",
    "$$"
   ]
  },
  {
   "cell_type": "markdown",
   "metadata": {},
   "source": [
    "## Modelo en julia"
   ]
  },
  {
   "cell_type": "markdown",
   "metadata": {},
   "source": [
    "Importación de las bibliotecas necesarias:"
   ]
  },
  {
   "cell_type": "code",
   "execution_count": 1,
   "metadata": {},
   "outputs": [],
   "source": [
    "using JuMP\n",
    "using GLPK"
   ]
  },
  {
   "cell_type": "markdown",
   "metadata": {},
   "source": [
    "Definimos los datos del problema:\n",
    "\n",
    "Utilizo datos ya definidos, porque en la mayoría de casos con valores aleatorios no suele encontrar una solución óptima. De todas formas, aqui dejo las dos versiones para poder probarlo."
   ]
  },
  {
   "cell_type": "code",
   "execution_count": 2,
   "metadata": {},
   "outputs": [
    {
     "data": {
      "text/plain": [
       "10"
      ]
     },
     "metadata": {},
     "output_type": "display_data"
    }
   ],
   "source": [
    "V = 1:5  # Conjunto de nodos\n",
    "E = [(1,2), (1,3), (2,4), (3,4), (3,5), (4,5)]  # Conjunto de arcos\n",
    "\n",
    "c = Dict(zip(E, [3, 9, 7, 2, 10, 6])) # Costo de los arcos\n",
    "u = Dict(zip(E, [4, 10, 3, 6, 3, 10])) # Capacidad de los arcos\n",
    "\n",
    "s = 1  # Nodo fuente\n",
    "t = 5  # Nodo sumidero\n",
    "f = 10  # Flujo deseado"
   ]
  },
  {
   "cell_type": "code",
   "execution_count": 3,
   "metadata": {},
   "outputs": [
    {
     "data": {
      "text/plain": [
       "10"
      ]
     },
     "metadata": {},
     "output_type": "display_data"
    }
   ],
   "source": [
    "V = 1:5  # Conjunto de nodos\n",
    "E = [(1,2), (1,3), (2,4), (3,4), (3,5), (4,5)]  # Conjunto de arcos\n",
    "\n",
    "c = Dict((i,j) => rand(1:10) for (i,j) in E)  # Costos de los arcos\n",
    "u = Dict((i,j) => rand(1:10) for (i,j) in E)  # Capacidad de los arcos\n",
    "\n",
    "s = 1  # Nodo fuente\n",
    "t = 5  # Nodo sumidero\n",
    "f = 10  # Flujo deseado"
   ]
  },
  {
   "cell_type": "markdown",
   "metadata": {},
   "source": [
    "Creación del modelo, definición de las variables de decisión y definición de restricciones:"
   ]
  },
  {
   "cell_type": "code",
   "execution_count": 4,
   "metadata": {},
   "outputs": [
    {
     "data": {
      "text/latex": [
       "$$ -x_{3,5} - x_{4,5} = -10 $$"
      ],
      "text/plain": [
       "-x[3,5] - x[4,5] == -10"
      ]
     },
     "metadata": {},
     "output_type": "display_data"
    }
   ],
   "source": [
    "# Crear el modelo de optimización\n",
    "model = Model(GLPK.Optimizer)\n",
    "\n",
    "# Definir las variables de decisión\n",
    "@variable(model, x[i=V, j=V] >= 0)\n",
    "\n",
    "# Definir la función objetivo\n",
    "@objective(model, Min, sum(c[i,j] * x[i,j] for (i,j) in E))\n",
    "\n",
    "# Restricciones de capacidad\n",
    "for (i, j) in E\n",
    "    @constraint(model, x[i, j] <= u[i, j])\n",
    "end\n",
    "\n",
    "# Restricciones de flujo\n",
    "@constraint(model, [i in setdiff(V, [s, t])], sum(x[i,j] for j in V if (i,j) in E) - sum(x[j,i] for j in V if (j,i) in E) == 0)\n",
    "@constraint(model, sum(x[s,j] for j in V if (s,j) in E) - sum(x[j,s] for j in V if (j,s) in E) == f)\n",
    "@constraint(model, sum(x[t,j] for j in V if (t,j) in E) - sum(x[j,t] for j in V if (j,t) in E) == -f)"
   ]
  },
  {
   "cell_type": "markdown",
   "metadata": {},
   "source": [
    "Muestra de resultados:"
   ]
  },
  {
   "cell_type": "code",
   "execution_count": 5,
   "metadata": {},
   "outputs": [
    {
     "name": "stdout",
     "output_type": "stream",
     "text": [
      "Solución óptima encontrada\n",
      "x[1,2] = 3.0\n",
      "x[1,3] = 7.0\n",
      "x[2,4] = 3.0\n",
      "x[3,4] = 5.0\n",
      "x[3,5] = 2.0\n",
      "x[4,5] = 8.0\n",
      "\n",
      "Costo mínimo = 115.0\n"
     ]
    }
   ],
   "source": [
    "# Resolver el modelo\n",
    "optimize!(model)\n",
    "\n",
    "# Imprimir resultados\n",
    "if termination_status(model) == MOI.OPTIMAL\n",
    "    println(\"Solución óptima encontrada\")\n",
    "    for (i,j) in E\n",
    "        println(\"x[\", i, \",\", j, \"] = \", value(x[i,j]))\n",
    "    end\n",
    "    println(\"\\nCosto mínimo = \", objective_value(model))\n",
    "else\n",
    "    println(\"El problema no tiene solución óptima.\")\n",
    "end"
   ]
  }
 ],
 "metadata": {
  "kernelspec": {
   "display_name": "Julia 1.11.2",
   "language": "julia",
   "name": "julia-1.11"
  },
  "language_info": {
   "file_extension": ".jl",
   "mimetype": "application/julia",
   "name": "julia",
   "version": "1.11.2"
  }
 },
 "nbformat": 4,
 "nbformat_minor": 2
}
